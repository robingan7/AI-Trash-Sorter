{
 "cells": [
  {
   "cell_type": "code",
   "execution_count": 9,
   "metadata": {},
   "outputs": [
    {
     "name": "stdout",
     "output_type": "stream",
     "text": [
      "Recycleable\n"
     ]
    }
   ],
   "source": [
    "import cv2\n",
    "import tensorflow as tf\n",
    "\n",
    "CATEGORIES = [\"Recycleable\", \"UnRecycleable\"]  \n",
    "\n",
    "def prepare(filepath):\n",
    "    IMG_SIZE = 50  \n",
    "    img_array = cv2.imread(filepath, cv2.IMREAD_GRAYSCALE)\n",
    "    new_array = cv2.resize(img_array, (IMG_SIZE, IMG_SIZE)) \n",
    "    return new_array.reshape(-1, IMG_SIZE, IMG_SIZE, 1)\n",
    "\n",
    "\n",
    "model = tf.keras.models.load_model(\"GSF2.model\")\n",
    "\n",
    "\n",
    "prediction = model.predict([prepare('../../../../tem/glass.jpg')])\n",
    "\n",
    "if prediction[0][0] !=1 and prediction[0][0] !=0 and prediction[0][0]<0: \n",
    "    if(abs(1-prediction[0][0])>abs(0-prediction[0][0])):\n",
    "        prediction[0][0]=1\n",
    "    else:\n",
    "        prediction[0][0]=0\n",
    "else: \n",
    "    if(abs(1-prediction[0][0])>abs(0-prediction[0][0])):\n",
    "        prediction[0][0]=0\n",
    "    else:\n",
    "        prediction[0][0]=1\n",
    "        \n",
    "print(CATEGORIES[int(prediction[0][0])])"
   ]
  },
  {
   "cell_type": "code",
   "execution_count": 11,
   "metadata": {},
   "outputs": [
    {
     "name": "stdout",
     "output_type": "stream",
     "text": [
      "['/Users/robingan7/anaconda3/lib/python3.6/site-packages/cv2']\n"
     ]
    }
   ],
   "source": [
    "\n",
    "import cv2\n",
    "print(cv2.__path__)"
   ]
  },
  {
   "cell_type": "code",
   "execution_count": 10,
   "metadata": {},
   "outputs": [
    {
     "data": {
      "text/plain": [
       "'1.12.0'"
      ]
     },
     "execution_count": 10,
     "metadata": {},
     "output_type": "execute_result"
    }
   ],
   "source": [
    "import tensorflow as tf\n",
    "\n",
    "tf.__version__"
   ]
  },
  {
   "cell_type": "code",
   "execution_count": null,
   "metadata": {},
   "outputs": [],
   "source": []
  }
 ],
 "metadata": {
  "kernelspec": {
   "display_name": "Python 3",
   "language": "python",
   "name": "python3"
  },
  "language_info": {
   "codemirror_mode": {
    "name": "ipython",
    "version": 3
   },
   "file_extension": ".py",
   "mimetype": "text/x-python",
   "name": "python",
   "nbconvert_exporter": "python",
   "pygments_lexer": "ipython3",
   "version": "3.6.6"
  }
 },
 "nbformat": 4,
 "nbformat_minor": 2
}
